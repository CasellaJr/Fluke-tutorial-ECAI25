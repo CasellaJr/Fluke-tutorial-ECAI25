{
 "cells": [
  {
   "cell_type": "markdown",
   "metadata": {},
   "source": [
    "# New federated Aggregation with `fluke`"
   ]
  },
  {
   "cell_type": "markdown",
   "metadata": {},
   "source": [
    "This tutorial will guide you through the steps required to implement KRUM and Multi-KRUM with ``fluke``.\n",
    "\n",
    "```{attention}\n",
    "This tutorial does not go into the details of the implementation, but it provides a quick overview of the steps required to implement a new federated learning algorithm.\n",
    "```\n",
    "\n",
    "Try this notebook: [![Open in Colab](https://img.shields.io/badge/Open_in_Colab-blue?style=flat-square&logo=google-colab&logoColor=yellow&labelColor=gray)\n",
    "](https://colab.research.google.com/github/CasellaJr/Fluke-tutorial-ECAI25/blob/main/2_fluke_krum.ipynb)"
   ]
  },
  {
   "cell_type": "markdown",
   "metadata": {},
   "source": [
    "## Install `fluke` (if not already done)"
   ]
  },
  {
   "cell_type": "code",
   "execution_count": 11,
   "metadata": {},
   "outputs": [
    {
     "name": "stdout",
     "output_type": "stream",
     "text": [
      "Requirement already satisfied: fluke-fl in /Users/samuelefonio/Desktop/ECAI25/Tutorial/ecai_venv/lib/python3.10/site-packages (0.7.9)\n",
      "Requirement already satisfied: numpy in /Users/samuelefonio/Desktop/ECAI25/Tutorial/ecai_venv/lib/python3.10/site-packages (from fluke-fl) (2.2.6)\n",
      "Requirement already satisfied: pandas in /Users/samuelefonio/Desktop/ECAI25/Tutorial/ecai_venv/lib/python3.10/site-packages (from fluke-fl) (2.3.3)\n",
      "Requirement already satisfied: scikit-learn in /Users/samuelefonio/Desktop/ECAI25/Tutorial/ecai_venv/lib/python3.10/site-packages (from fluke-fl) (1.7.2)\n",
      "Requirement already satisfied: torch in /Users/samuelefonio/Desktop/ECAI25/Tutorial/ecai_venv/lib/python3.10/site-packages (from fluke-fl) (2.9.0)\n",
      "Requirement already satisfied: torchmetrics in /Users/samuelefonio/Desktop/ECAI25/Tutorial/ecai_venv/lib/python3.10/site-packages (from fluke-fl) (1.8.2)\n",
      "Requirement already satisfied: torchvision in /Users/samuelefonio/Desktop/ECAI25/Tutorial/ecai_venv/lib/python3.10/site-packages (from fluke-fl) (0.24.0)\n",
      "Requirement already satisfied: rich in /Users/samuelefonio/Desktop/ECAI25/Tutorial/ecai_venv/lib/python3.10/site-packages (from fluke-fl) (14.2.0)\n",
      "Requirement already satisfied: typer in /Users/samuelefonio/Desktop/ECAI25/Tutorial/ecai_venv/lib/python3.10/site-packages (from fluke-fl) (0.19.2)\n",
      "Requirement already satisfied: wandb in /Users/samuelefonio/Desktop/ECAI25/Tutorial/ecai_venv/lib/python3.10/site-packages (from fluke-fl) (0.22.2)\n",
      "Requirement already satisfied: datasets in /Users/samuelefonio/Desktop/ECAI25/Tutorial/ecai_venv/lib/python3.10/site-packages (from fluke-fl) (4.2.0)\n",
      "Requirement already satisfied: psutil in /Users/samuelefonio/Desktop/ECAI25/Tutorial/ecai_venv/lib/python3.10/site-packages (from fluke-fl) (7.1.0)\n",
      "Requirement already satisfied: tensorboard in /Users/samuelefonio/Desktop/ECAI25/Tutorial/ecai_venv/lib/python3.10/site-packages (from fluke-fl) (2.20.0)\n",
      "Requirement already satisfied: clearml in /Users/samuelefonio/Desktop/ECAI25/Tutorial/ecai_venv/lib/python3.10/site-packages (from fluke-fl) (2.0.2)\n",
      "Requirement already satisfied: matplotlib in /Users/samuelefonio/Desktop/ECAI25/Tutorial/ecai_venv/lib/python3.10/site-packages (from fluke-fl) (3.10.7)\n",
      "Requirement already satisfied: seaborn in /Users/samuelefonio/Desktop/ECAI25/Tutorial/ecai_venv/lib/python3.10/site-packages (from fluke-fl) (0.13.2)\n",
      "Requirement already satisfied: diskcache in /Users/samuelefonio/Desktop/ECAI25/Tutorial/ecai_venv/lib/python3.10/site-packages (from fluke-fl) (5.6.3)\n",
      "Requirement already satisfied: opacus in /Users/samuelefonio/Desktop/ECAI25/Tutorial/ecai_venv/lib/python3.10/site-packages (from fluke-fl) (1.5.4)\n",
      "Requirement already satisfied: cerberus in /Users/samuelefonio/Desktop/ECAI25/Tutorial/ecai_venv/lib/python3.10/site-packages (from fluke-fl) (1.3.7)\n",
      "Requirement already satisfied: hydra-core in /Users/samuelefonio/Desktop/ECAI25/Tutorial/ecai_venv/lib/python3.10/site-packages (from fluke-fl) (1.3.2)\n",
      "Requirement already satisfied: requests in /Users/samuelefonio/Desktop/ECAI25/Tutorial/ecai_venv/lib/python3.10/site-packages (from fluke-fl) (2.32.5)\n",
      "Requirement already satisfied: pyyaml in /Users/samuelefonio/Desktop/ECAI25/Tutorial/ecai_venv/lib/python3.10/site-packages (from fluke-fl) (6.0.3)\n",
      "Requirement already satisfied: omegaconf in /Users/samuelefonio/Desktop/ECAI25/Tutorial/ecai_venv/lib/python3.10/site-packages (from fluke-fl) (2.3.0)\n",
      "Requirement already satisfied: attrs>=18.0 in /Users/samuelefonio/Desktop/ECAI25/Tutorial/ecai_venv/lib/python3.10/site-packages (from clearml->fluke-fl) (25.4.0)\n",
      "Requirement already satisfied: furl>=2.0.0 in /Users/samuelefonio/Desktop/ECAI25/Tutorial/ecai_venv/lib/python3.10/site-packages (from clearml->fluke-fl) (2.1.4)\n",
      "Requirement already satisfied: jsonschema>=2.6.0 in /Users/samuelefonio/Desktop/ECAI25/Tutorial/ecai_venv/lib/python3.10/site-packages (from clearml->fluke-fl) (4.25.1)\n",
      "Requirement already satisfied: pathlib2>=2.3.0 in /Users/samuelefonio/Desktop/ECAI25/Tutorial/ecai_venv/lib/python3.10/site-packages (from clearml->fluke-fl) (2.3.7.post1)\n",
      "Requirement already satisfied: pyparsing>=2.0.3 in /Users/samuelefonio/Desktop/ECAI25/Tutorial/ecai_venv/lib/python3.10/site-packages (from clearml->fluke-fl) (3.2.5)\n",
      "Requirement already satisfied: python-dateutil>=2.6.1 in /Users/samuelefonio/Desktop/ECAI25/Tutorial/ecai_venv/lib/python3.10/site-packages (from clearml->fluke-fl) (2.9.0.post0)\n",
      "Requirement already satisfied: pyjwt<2.11.0,>=2.4.0 in /Users/samuelefonio/Desktop/ECAI25/Tutorial/ecai_venv/lib/python3.10/site-packages (from clearml->fluke-fl) (2.10.1)\n",
      "Requirement already satisfied: six>=1.16.0 in /Users/samuelefonio/Desktop/ECAI25/Tutorial/ecai_venv/lib/python3.10/site-packages (from clearml->fluke-fl) (1.17.0)\n",
      "Requirement already satisfied: urllib3>=1.21.1 in /Users/samuelefonio/Desktop/ECAI25/Tutorial/ecai_venv/lib/python3.10/site-packages (from clearml->fluke-fl) (2.5.0)\n",
      "Requirement already satisfied: Pillow>=10.3.0 in /Users/samuelefonio/Desktop/ECAI25/Tutorial/ecai_venv/lib/python3.10/site-packages (from clearml->fluke-fl) (12.0.0)\n",
      "Requirement already satisfied: referencing<0.40 in /Users/samuelefonio/Desktop/ECAI25/Tutorial/ecai_venv/lib/python3.10/site-packages (from clearml->fluke-fl) (0.37.0)\n",
      "Requirement already satisfied: rpds-py>=0.7.0 in /Users/samuelefonio/Desktop/ECAI25/Tutorial/ecai_venv/lib/python3.10/site-packages (from referencing<0.40->clearml->fluke-fl) (0.27.1)\n",
      "Requirement already satisfied: typing-extensions>=4.4.0 in /Users/samuelefonio/Desktop/ECAI25/Tutorial/ecai_venv/lib/python3.10/site-packages (from referencing<0.40->clearml->fluke-fl) (4.15.0)\n",
      "Requirement already satisfied: orderedmultidict>=1.0.1 in /Users/samuelefonio/Desktop/ECAI25/Tutorial/ecai_venv/lib/python3.10/site-packages (from furl>=2.0.0->clearml->fluke-fl) (1.0.1)\n",
      "Requirement already satisfied: jsonschema-specifications>=2023.03.6 in /Users/samuelefonio/Desktop/ECAI25/Tutorial/ecai_venv/lib/python3.10/site-packages (from jsonschema>=2.6.0->clearml->fluke-fl) (2025.9.1)\n",
      "Requirement already satisfied: charset_normalizer<4,>=2 in /Users/samuelefonio/Desktop/ECAI25/Tutorial/ecai_venv/lib/python3.10/site-packages (from requests->fluke-fl) (3.4.4)\n",
      "Requirement already satisfied: idna<4,>=2.5 in /Users/samuelefonio/Desktop/ECAI25/Tutorial/ecai_venv/lib/python3.10/site-packages (from requests->fluke-fl) (3.11)\n",
      "Requirement already satisfied: certifi>=2017.4.17 in /Users/samuelefonio/Desktop/ECAI25/Tutorial/ecai_venv/lib/python3.10/site-packages (from requests->fluke-fl) (2025.10.5)\n",
      "Requirement already satisfied: filelock in /Users/samuelefonio/Desktop/ECAI25/Tutorial/ecai_venv/lib/python3.10/site-packages (from datasets->fluke-fl) (3.20.0)\n",
      "Requirement already satisfied: pyarrow>=21.0.0 in /Users/samuelefonio/Desktop/ECAI25/Tutorial/ecai_venv/lib/python3.10/site-packages (from datasets->fluke-fl) (21.0.0)\n",
      "Requirement already satisfied: dill<0.4.1,>=0.3.0 in /Users/samuelefonio/Desktop/ECAI25/Tutorial/ecai_venv/lib/python3.10/site-packages (from datasets->fluke-fl) (0.4.0)\n",
      "Requirement already satisfied: httpx<1.0.0 in /Users/samuelefonio/Desktop/ECAI25/Tutorial/ecai_venv/lib/python3.10/site-packages (from datasets->fluke-fl) (0.28.1)\n",
      "Requirement already satisfied: tqdm>=4.66.3 in /Users/samuelefonio/Desktop/ECAI25/Tutorial/ecai_venv/lib/python3.10/site-packages (from datasets->fluke-fl) (4.67.1)\n",
      "Requirement already satisfied: xxhash in /Users/samuelefonio/Desktop/ECAI25/Tutorial/ecai_venv/lib/python3.10/site-packages (from datasets->fluke-fl) (3.6.0)\n",
      "Requirement already satisfied: multiprocess<0.70.17 in /Users/samuelefonio/Desktop/ECAI25/Tutorial/ecai_venv/lib/python3.10/site-packages (from datasets->fluke-fl) (0.70.16)\n",
      "Requirement already satisfied: fsspec<=2025.9.0,>=2023.1.0 in /Users/samuelefonio/Desktop/ECAI25/Tutorial/ecai_venv/lib/python3.10/site-packages (from fsspec[http]<=2025.9.0,>=2023.1.0->datasets->fluke-fl) (2025.9.0)\n",
      "Requirement already satisfied: huggingface-hub<2.0,>=0.25.0 in /Users/samuelefonio/Desktop/ECAI25/Tutorial/ecai_venv/lib/python3.10/site-packages (from datasets->fluke-fl) (0.35.3)\n",
      "Requirement already satisfied: packaging in /Users/samuelefonio/Desktop/ECAI25/Tutorial/ecai_venv/lib/python3.10/site-packages (from datasets->fluke-fl) (25.0)\n",
      "Requirement already satisfied: aiohttp!=4.0.0a0,!=4.0.0a1 in /Users/samuelefonio/Desktop/ECAI25/Tutorial/ecai_venv/lib/python3.10/site-packages (from fsspec[http]<=2025.9.0,>=2023.1.0->datasets->fluke-fl) (3.13.0)\n",
      "Requirement already satisfied: anyio in /Users/samuelefonio/Desktop/ECAI25/Tutorial/ecai_venv/lib/python3.10/site-packages (from httpx<1.0.0->datasets->fluke-fl) (4.11.0)\n",
      "Requirement already satisfied: httpcore==1.* in /Users/samuelefonio/Desktop/ECAI25/Tutorial/ecai_venv/lib/python3.10/site-packages (from httpx<1.0.0->datasets->fluke-fl) (1.0.9)\n",
      "Requirement already satisfied: h11>=0.16 in /Users/samuelefonio/Desktop/ECAI25/Tutorial/ecai_venv/lib/python3.10/site-packages (from httpcore==1.*->httpx<1.0.0->datasets->fluke-fl) (0.16.0)\n",
      "Requirement already satisfied: hf-xet<2.0.0,>=1.1.3 in /Users/samuelefonio/Desktop/ECAI25/Tutorial/ecai_venv/lib/python3.10/site-packages (from huggingface-hub<2.0,>=0.25.0->datasets->fluke-fl) (1.1.10)\n",
      "Requirement already satisfied: aiohappyeyeballs>=2.5.0 in /Users/samuelefonio/Desktop/ECAI25/Tutorial/ecai_venv/lib/python3.10/site-packages (from aiohttp!=4.0.0a0,!=4.0.0a1->fsspec[http]<=2025.9.0,>=2023.1.0->datasets->fluke-fl) (2.6.1)\n",
      "Requirement already satisfied: aiosignal>=1.4.0 in /Users/samuelefonio/Desktop/ECAI25/Tutorial/ecai_venv/lib/python3.10/site-packages (from aiohttp!=4.0.0a0,!=4.0.0a1->fsspec[http]<=2025.9.0,>=2023.1.0->datasets->fluke-fl) (1.4.0)\n",
      "Requirement already satisfied: async-timeout<6.0,>=4.0 in /Users/samuelefonio/Desktop/ECAI25/Tutorial/ecai_venv/lib/python3.10/site-packages (from aiohttp!=4.0.0a0,!=4.0.0a1->fsspec[http]<=2025.9.0,>=2023.1.0->datasets->fluke-fl) (5.0.1)\n",
      "Requirement already satisfied: frozenlist>=1.1.1 in /Users/samuelefonio/Desktop/ECAI25/Tutorial/ecai_venv/lib/python3.10/site-packages (from aiohttp!=4.0.0a0,!=4.0.0a1->fsspec[http]<=2025.9.0,>=2023.1.0->datasets->fluke-fl) (1.8.0)\n",
      "Requirement already satisfied: multidict<7.0,>=4.5 in /Users/samuelefonio/Desktop/ECAI25/Tutorial/ecai_venv/lib/python3.10/site-packages (from aiohttp!=4.0.0a0,!=4.0.0a1->fsspec[http]<=2025.9.0,>=2023.1.0->datasets->fluke-fl) (6.7.0)\n",
      "Requirement already satisfied: propcache>=0.2.0 in /Users/samuelefonio/Desktop/ECAI25/Tutorial/ecai_venv/lib/python3.10/site-packages (from aiohttp!=4.0.0a0,!=4.0.0a1->fsspec[http]<=2025.9.0,>=2023.1.0->datasets->fluke-fl) (0.4.1)\n",
      "Requirement already satisfied: yarl<2.0,>=1.17.0 in /Users/samuelefonio/Desktop/ECAI25/Tutorial/ecai_venv/lib/python3.10/site-packages (from aiohttp!=4.0.0a0,!=4.0.0a1->fsspec[http]<=2025.9.0,>=2023.1.0->datasets->fluke-fl) (1.22.0)\n",
      "Requirement already satisfied: exceptiongroup>=1.0.2 in /Users/samuelefonio/Desktop/ECAI25/Tutorial/ecai_venv/lib/python3.10/site-packages (from anyio->httpx<1.0.0->datasets->fluke-fl) (1.3.0)\n",
      "Requirement already satisfied: sniffio>=1.1 in /Users/samuelefonio/Desktop/ECAI25/Tutorial/ecai_venv/lib/python3.10/site-packages (from anyio->httpx<1.0.0->datasets->fluke-fl) (1.3.1)\n",
      "Requirement already satisfied: antlr4-python3-runtime==4.9.* in /Users/samuelefonio/Desktop/ECAI25/Tutorial/ecai_venv/lib/python3.10/site-packages (from hydra-core->fluke-fl) (4.9.3)\n",
      "Requirement already satisfied: contourpy>=1.0.1 in /Users/samuelefonio/Desktop/ECAI25/Tutorial/ecai_venv/lib/python3.10/site-packages (from matplotlib->fluke-fl) (1.3.2)\n",
      "Requirement already satisfied: cycler>=0.10 in /Users/samuelefonio/Desktop/ECAI25/Tutorial/ecai_venv/lib/python3.10/site-packages (from matplotlib->fluke-fl) (0.12.1)\n",
      "Requirement already satisfied: fonttools>=4.22.0 in /Users/samuelefonio/Desktop/ECAI25/Tutorial/ecai_venv/lib/python3.10/site-packages (from matplotlib->fluke-fl) (4.60.1)\n",
      "Requirement already satisfied: kiwisolver>=1.3.1 in /Users/samuelefonio/Desktop/ECAI25/Tutorial/ecai_venv/lib/python3.10/site-packages (from matplotlib->fluke-fl) (1.4.9)\n",
      "Requirement already satisfied: scipy>=1.2 in /Users/samuelefonio/Desktop/ECAI25/Tutorial/ecai_venv/lib/python3.10/site-packages (from opacus->fluke-fl) (1.15.3)\n",
      "Requirement already satisfied: opt-einsum>=3.3.0 in /Users/samuelefonio/Desktop/ECAI25/Tutorial/ecai_venv/lib/python3.10/site-packages (from opacus->fluke-fl) (3.4.0)\n",
      "Requirement already satisfied: sympy>=1.13.3 in /Users/samuelefonio/Desktop/ECAI25/Tutorial/ecai_venv/lib/python3.10/site-packages (from torch->fluke-fl) (1.14.0)\n",
      "Requirement already satisfied: networkx>=2.5.1 in /Users/samuelefonio/Desktop/ECAI25/Tutorial/ecai_venv/lib/python3.10/site-packages (from torch->fluke-fl) (3.4.2)\n",
      "Requirement already satisfied: jinja2 in /Users/samuelefonio/Desktop/ECAI25/Tutorial/ecai_venv/lib/python3.10/site-packages (from torch->fluke-fl) (3.1.6)\n",
      "Requirement already satisfied: mpmath<1.4,>=1.1.0 in /Users/samuelefonio/Desktop/ECAI25/Tutorial/ecai_venv/lib/python3.10/site-packages (from sympy>=1.13.3->torch->fluke-fl) (1.3.0)\n",
      "Requirement already satisfied: MarkupSafe>=2.0 in /Users/samuelefonio/Desktop/ECAI25/Tutorial/ecai_venv/lib/python3.10/site-packages (from jinja2->torch->fluke-fl) (3.0.3)\n",
      "Requirement already satisfied: pytz>=2020.1 in /Users/samuelefonio/Desktop/ECAI25/Tutorial/ecai_venv/lib/python3.10/site-packages (from pandas->fluke-fl) (2025.2)\n",
      "Requirement already satisfied: tzdata>=2022.7 in /Users/samuelefonio/Desktop/ECAI25/Tutorial/ecai_venv/lib/python3.10/site-packages (from pandas->fluke-fl) (2025.2)\n",
      "Requirement already satisfied: markdown-it-py>=2.2.0 in /Users/samuelefonio/Desktop/ECAI25/Tutorial/ecai_venv/lib/python3.10/site-packages (from rich->fluke-fl) (4.0.0)\n",
      "Requirement already satisfied: pygments<3.0.0,>=2.13.0 in /Users/samuelefonio/Desktop/ECAI25/Tutorial/ecai_venv/lib/python3.10/site-packages (from rich->fluke-fl) (2.19.2)\n",
      "Requirement already satisfied: mdurl~=0.1 in /Users/samuelefonio/Desktop/ECAI25/Tutorial/ecai_venv/lib/python3.10/site-packages (from markdown-it-py>=2.2.0->rich->fluke-fl) (0.1.2)\n",
      "Requirement already satisfied: joblib>=1.2.0 in /Users/samuelefonio/Desktop/ECAI25/Tutorial/ecai_venv/lib/python3.10/site-packages (from scikit-learn->fluke-fl) (1.5.2)\n",
      "Requirement already satisfied: threadpoolctl>=3.1.0 in /Users/samuelefonio/Desktop/ECAI25/Tutorial/ecai_venv/lib/python3.10/site-packages (from scikit-learn->fluke-fl) (3.6.0)\n",
      "Requirement already satisfied: absl-py>=0.4 in /Users/samuelefonio/Desktop/ECAI25/Tutorial/ecai_venv/lib/python3.10/site-packages (from tensorboard->fluke-fl) (2.3.1)\n",
      "Requirement already satisfied: grpcio>=1.48.2 in /Users/samuelefonio/Desktop/ECAI25/Tutorial/ecai_venv/lib/python3.10/site-packages (from tensorboard->fluke-fl) (1.75.1)\n",
      "Requirement already satisfied: markdown>=2.6.8 in /Users/samuelefonio/Desktop/ECAI25/Tutorial/ecai_venv/lib/python3.10/site-packages (from tensorboard->fluke-fl) (3.9)\n",
      "Requirement already satisfied: protobuf!=4.24.0,>=3.19.6 in /Users/samuelefonio/Desktop/ECAI25/Tutorial/ecai_venv/lib/python3.10/site-packages (from tensorboard->fluke-fl) (6.33.0)\n",
      "Requirement already satisfied: setuptools>=41.0.0 in /Users/samuelefonio/Desktop/ECAI25/Tutorial/ecai_venv/lib/python3.10/site-packages (from tensorboard->fluke-fl) (65.5.0)\n",
      "Requirement already satisfied: tensorboard-data-server<0.8.0,>=0.7.0 in /Users/samuelefonio/Desktop/ECAI25/Tutorial/ecai_venv/lib/python3.10/site-packages (from tensorboard->fluke-fl) (0.7.2)\n",
      "Requirement already satisfied: werkzeug>=1.0.1 in /Users/samuelefonio/Desktop/ECAI25/Tutorial/ecai_venv/lib/python3.10/site-packages (from tensorboard->fluke-fl) (3.1.3)\n",
      "Requirement already satisfied: lightning-utilities>=0.8.0 in /Users/samuelefonio/Desktop/ECAI25/Tutorial/ecai_venv/lib/python3.10/site-packages (from torchmetrics->fluke-fl) (0.15.2)\n",
      "Requirement already satisfied: click>=8.0.0 in /Users/samuelefonio/Desktop/ECAI25/Tutorial/ecai_venv/lib/python3.10/site-packages (from typer->fluke-fl) (8.3.0)\n",
      "Requirement already satisfied: shellingham>=1.3.0 in /Users/samuelefonio/Desktop/ECAI25/Tutorial/ecai_venv/lib/python3.10/site-packages (from typer->fluke-fl) (1.5.4)\n",
      "Requirement already satisfied: gitpython!=3.1.29,>=1.0.0 in /Users/samuelefonio/Desktop/ECAI25/Tutorial/ecai_venv/lib/python3.10/site-packages (from wandb->fluke-fl) (3.1.45)\n",
      "Requirement already satisfied: platformdirs in /Users/samuelefonio/Desktop/ECAI25/Tutorial/ecai_venv/lib/python3.10/site-packages (from wandb->fluke-fl) (4.5.0)\n",
      "Requirement already satisfied: pydantic<3 in /Users/samuelefonio/Desktop/ECAI25/Tutorial/ecai_venv/lib/python3.10/site-packages (from wandb->fluke-fl) (2.12.3)\n",
      "Requirement already satisfied: sentry-sdk>=2.0.0 in /Users/samuelefonio/Desktop/ECAI25/Tutorial/ecai_venv/lib/python3.10/site-packages (from wandb->fluke-fl) (2.42.0)\n",
      "Requirement already satisfied: annotated-types>=0.6.0 in /Users/samuelefonio/Desktop/ECAI25/Tutorial/ecai_venv/lib/python3.10/site-packages (from pydantic<3->wandb->fluke-fl) (0.7.0)\n",
      "Requirement already satisfied: pydantic-core==2.41.4 in /Users/samuelefonio/Desktop/ECAI25/Tutorial/ecai_venv/lib/python3.10/site-packages (from pydantic<3->wandb->fluke-fl) (2.41.4)\n",
      "Requirement already satisfied: typing-inspection>=0.4.2 in /Users/samuelefonio/Desktop/ECAI25/Tutorial/ecai_venv/lib/python3.10/site-packages (from pydantic<3->wandb->fluke-fl) (0.4.2)\n",
      "Requirement already satisfied: gitdb<5,>=4.0.1 in /Users/samuelefonio/Desktop/ECAI25/Tutorial/ecai_venv/lib/python3.10/site-packages (from gitpython!=3.1.29,>=1.0.0->wandb->fluke-fl) (4.0.12)\n",
      "Requirement already satisfied: smmap<6,>=3.0.1 in /Users/samuelefonio/Desktop/ECAI25/Tutorial/ecai_venv/lib/python3.10/site-packages (from gitdb<5,>=4.0.1->gitpython!=3.1.29,>=1.0.0->wandb->fluke-fl) (5.0.2)\n"
     ]
    }
   ],
   "source": [
    "!pip install fluke-fl"
   ]
  },
  {
   "cell_type": "markdown",
   "metadata": {},
   "source": [
    "# KRUM\n",
    "\n",
    "Let's do a further operation, let's implement KRUM aggregation, that should be more robust to byzantine attacks than the median aggregation."
   ]
  },
  {
   "cell_type": "code",
   "execution_count": 12,
   "metadata": {},
   "outputs": [],
   "source": [
    "from typing import Collection, Sequence, Iterable\n",
    "from torch.nn import Module\n",
    "import torch\n",
    "from fluke.client import Client\n",
    "from fluke.server import Server\n",
    "import numpy as np\n",
    "from copy import deepcopy\n",
    "from fluke.data import FastDataLoader\n",
    "\n",
    "\n",
    "class MyServer(Server):\n",
    "    def __init__(\n",
    "        self,\n",
    "        model: torch.nn.Module,\n",
    "        test_set: FastDataLoader | None,\n",
    "        clients: Sequence[Client],\n",
    "        weighted: bool = False,\n",
    "        lr: float = 1.0,\n",
    "        f: int = 0,\n",
    "        **kwargs,\n",
    "    ):\n",
    "        super().__init__(model, test_set, clients, weighted, lr, **kwargs)\n",
    "        self.hyper_params.update(f=f)\n",
    "\n",
    "\n",
    "    def aggregate(self, eligible: Sequence[Client], client_models: Iterable[Module]) -> None:\n",
    "            \n",
    "            client_models = list(client_models)\n",
    "            n = len(client_models)\n",
    "            f = self.hyper_params.f\n",
    "            \n",
    "            server_param_items = list(self.model.named_parameters())\n",
    "            param_keys = [k for k, _ in server_param_items]\n",
    "\n",
    "            # get one vector for each client\n",
    "            client_vecs = []\n",
    "            for i, cm in enumerate(client_models):\n",
    "                cm_state = dict(cm.named_parameters()) \n",
    "                parts = [torch.ravel(cm_state[k].data) for k in param_keys]\n",
    "                vec = torch.cat(parts, dim=0) \n",
    "                client_vecs.append(vec)\n",
    "\n",
    "            # put all these vector in a tensor\n",
    "            mat = torch.stack(client_vecs, dim=0)\n",
    "            \n",
    "            # calculate pairwise euclidean distance matrix to extract the scores\n",
    "            dists = torch.cdist(mat, mat, p=2.0)  # shape (n, n)\n",
    "            sq_dists = dists.pow(2)\n",
    "\n",
    "            scores = torch.empty(n)\n",
    "            # For each model i, sort distances to others (exclude self-distance=0)\n",
    "            # and sum the smallest (n - f - 2) distances\n",
    "            nb_small = n - f - 2\n",
    "            for i in range(n):\n",
    "                # distances to others (includes zero at i)\n",
    "                row = sq_dists[i]\n",
    "                # Get sorted distances (ascending)\n",
    "                sorted_row, _ = torch.sort(row)\n",
    "                selected = sorted_row[1: nb_small + 1]\n",
    "                scores[i] = selected.sum()\n",
    "\n",
    "            _, selected_indices = torch.topk(scores, k=1, largest=False) \n",
    "\n",
    "            selected_indices = selected_indices.tolist()  # indices of chosen clients\n",
    "\n",
    "            chosen_idx = selected_indices[0]\n",
    "            chosen_state = dict(client_models[chosen_idx].named_parameters())\n",
    "            # Copy parameter tensors into server model\n",
    "            for k in param_keys:\n",
    "                self.model.state_dict()[k].copy_(chosen_state[k].data)\n",
    "\n",
    "            return deepcopy(self.model)"
   ]
  },
  {
   "cell_type": "code",
   "execution_count": 13,
   "metadata": {},
   "outputs": [],
   "source": [
    "class MyClient(Client):\n",
    "\n",
    "    # we override the fit method to implement our training \"strategy\"\n",
    "    def fit(self, override_local_epochs: int = 0) -> float:\n",
    "        # we can override the number of local epochs and call the parent class method\n",
    "        new_local_epochs = np.random.randint(1, self.hyper_params.local_epochs + 1)\n",
    "        return super().fit(new_local_epochs)"
   ]
  },
  {
   "cell_type": "markdown",
   "metadata": {},
   "source": [
    "## Implementing the new federated algorithm\n",
    "\n",
    "Now, we only need to put everything together in a new class that inherits from `fluke.algorithms.CentralizedFL` specifying the server and client classes we just implemented."
   ]
  },
  {
   "cell_type": "code",
   "execution_count": 4,
   "metadata": {},
   "outputs": [],
   "source": [
    "from fluke.algorithms import CentralizedFL\n",
    "\n",
    "class MyFLAlgorithm(CentralizedFL):\n",
    "\n",
    "    def get_client_class(self) -> type[Client]:\n",
    "        return MyClient\n",
    "\n",
    "    def get_server_class(self) -> type[Server]:\n",
    "        return MyServer"
   ]
  },
  {
   "cell_type": "markdown",
   "metadata": {},
   "source": [
    "Everything is ready! Now we can test our new federated algorithm with `fluke`!\n",
    "\n",
    "## Ready to test KRUM"
   ]
  },
  {
   "cell_type": "code",
   "execution_count": 14,
   "metadata": {},
   "outputs": [],
   "source": [
    "from fluke.data import DataSplitter\n",
    "from fluke.data.datasets import Datasets\n",
    "from fluke import DDict\n",
    "from fluke.utils.log import Log\n",
    "from fluke.evaluation import ClassificationEval\n",
    "from fluke import FlukeENV\n",
    "\n",
    "env = FlukeENV()\n",
    "env.set_seed(42) # we set a seed for reproducibility\n",
    "env.set_device(\"cpu\") # we use the CPU for this example\n",
    "\n",
    "dataset = Datasets.get(\"mnist\", path=\"./data\")\n",
    "\n",
    "# we set the evaluator to be used by both the server and the clients\n",
    "env.set_evaluator(ClassificationEval(eval_every=1, n_classes=dataset.num_classes))\n",
    "\n",
    "splitter = DataSplitter(dataset=dataset,\n",
    "                        distribution=\"iid\")\n",
    "\n",
    "client_hp = DDict(\n",
    "    batch_size=10,\n",
    "    local_epochs=5,\n",
    "    loss=\"CrossEntropyLoss\",\n",
    "    optimizer=DDict(\n",
    "      lr=0.01,\n",
    "      momentum=0.9,\n",
    "      weight_decay=0.0001),\n",
    "    scheduler=DDict(\n",
    "      gamma=1,\n",
    "      step_size=1)\n",
    ")\n",
    "\n",
    "# we put together the hyperparameters for the algorithm\n",
    "hyperparams = DDict(client=client_hp,\n",
    "                    server=DDict(weighted=True, f=7),\n",
    "                    model=\"MNIST_2NN\")"
   ]
  },
  {
   "cell_type": "markdown",
   "metadata": {},
   "source": [
    "Here is where the new federated algorithm comes into play."
   ]
  },
  {
   "cell_type": "code",
   "execution_count": 15,
   "metadata": {},
   "outputs": [
    {
     "data": {
      "text/html": [
       "<pre style=\"white-space:pre;overflow-x:auto;line-height:normal;font-family:Menlo,'DejaVu Sans Mono',consolas,'Courier New',monospace\">╭──────────────────────────────────────────── Round: 1 ────────────────────────────────────────────╮\n",
       "│ <span style=\"font-weight: bold\">{</span>                                                                                                │\n",
       "│     <span style=\"color: #008000; text-decoration-color: #008000\">'global'</span>: <span style=\"font-weight: bold\">{</span>                                                                                  │\n",
       "│         <span style=\"color: #008000; text-decoration-color: #008000\">'accuracy'</span>: <span style=\"color: #008080; text-decoration-color: #008080; font-weight: bold\">0.8801</span>,                                                                      │\n",
       "│         <span style=\"color: #008000; text-decoration-color: #008000\">'macro_precision'</span>: <span style=\"color: #008080; text-decoration-color: #008080; font-weight: bold\">0.88894</span>,                                                              │\n",
       "│         <span style=\"color: #008000; text-decoration-color: #008000\">'macro_recall'</span>: <span style=\"color: #008080; text-decoration-color: #008080; font-weight: bold\">0.87951</span>,                                                                 │\n",
       "│         <span style=\"color: #008000; text-decoration-color: #008000\">'macro_f1'</span>: <span style=\"color: #008080; text-decoration-color: #008080; font-weight: bold\">0.8788</span>,                                                                      │\n",
       "│         <span style=\"color: #008000; text-decoration-color: #008000\">'micro_precision'</span>: <span style=\"color: #008080; text-decoration-color: #008080; font-weight: bold\">0.8801</span>,                                                               │\n",
       "│         <span style=\"color: #008000; text-decoration-color: #008000\">'micro_recall'</span>: <span style=\"color: #008080; text-decoration-color: #008080; font-weight: bold\">0.8801</span>,                                                                  │\n",
       "│         <span style=\"color: #008000; text-decoration-color: #008000\">'micro_f1'</span>: <span style=\"color: #008080; text-decoration-color: #008080; font-weight: bold\">0.8801</span>,                                                                      │\n",
       "│         <span style=\"color: #008000; text-decoration-color: #008000\">'round'</span>: <span style=\"color: #008080; text-decoration-color: #008080; font-weight: bold\">1</span>                                                                               │\n",
       "│     <span style=\"font-weight: bold\">}</span>,                                                                                           │\n",
       "│     <span style=\"color: #008000; text-decoration-color: #008000\">'comm_cost'</span>: <span style=\"color: #008080; text-decoration-color: #008080; font-weight: bold\">3562200</span>                                                                         │\n",
       "│ <span style=\"font-weight: bold\">}</span>                                                                                                │\n",
       "╰──────────────────────────────────────────────────────────────────────────────────────────────────╯\n",
       "</pre>\n"
      ],
      "text/plain": [
       "╭──────────────────────────────────────────── Round: 1 ────────────────────────────────────────────╮\n",
       "│ \u001b[1m{\u001b[0m                                                                                                │\n",
       "│     \u001b[32m'global'\u001b[0m: \u001b[1m{\u001b[0m                                                                                  │\n",
       "│         \u001b[32m'accuracy'\u001b[0m: \u001b[1;36m0.8801\u001b[0m,                                                                      │\n",
       "│         \u001b[32m'macro_precision'\u001b[0m: \u001b[1;36m0.88894\u001b[0m,                                                              │\n",
       "│         \u001b[32m'macro_recall'\u001b[0m: \u001b[1;36m0.87951\u001b[0m,                                                                 │\n",
       "│         \u001b[32m'macro_f1'\u001b[0m: \u001b[1;36m0.8788\u001b[0m,                                                                      │\n",
       "│         \u001b[32m'micro_precision'\u001b[0m: \u001b[1;36m0.8801\u001b[0m,                                                               │\n",
       "│         \u001b[32m'micro_recall'\u001b[0m: \u001b[1;36m0.8801\u001b[0m,                                                                  │\n",
       "│         \u001b[32m'micro_f1'\u001b[0m: \u001b[1;36m0.8801\u001b[0m,                                                                      │\n",
       "│         \u001b[32m'round'\u001b[0m: \u001b[1;36m1\u001b[0m                                                                               │\n",
       "│     \u001b[1m}\u001b[0m,                                                                                           │\n",
       "│     \u001b[32m'comm_cost'\u001b[0m: \u001b[1;36m3562200\u001b[0m                                                                         │\n",
       "│ \u001b[1m}\u001b[0m                                                                                                │\n",
       "╰──────────────────────────────────────────────────────────────────────────────────────────────────╯\n"
      ]
     },
     "metadata": {},
     "output_type": "display_data"
    },
    {
     "data": {
      "text/html": [
       "<pre style=\"white-space:pre;overflow-x:auto;line-height:normal;font-family:Menlo,'DejaVu Sans Mono',consolas,'Courier New',monospace\">  Memory usage: <span style=\"color: #008080; text-decoration-color: #008080; font-weight: bold\">281.1</span> MB <span style=\"font-weight: bold\">[</span><span style=\"color: #008080; text-decoration-color: #008080; font-weight: bold\">3.66</span> %<span style=\"font-weight: bold\">]</span>\n",
       "</pre>\n"
      ],
      "text/plain": [
       "  Memory usage: \u001b[1;36m281.1\u001b[0m MB \u001b[1m[\u001b[0m\u001b[1;36m3.66\u001b[0m %\u001b[1m]\u001b[0m\n"
      ]
     },
     "metadata": {},
     "output_type": "display_data"
    },
    {
     "data": {
      "text/html": [
       "<pre style=\"white-space:pre;overflow-x:auto;line-height:normal;font-family:Menlo,'DejaVu Sans Mono',consolas,'Courier New',monospace\">╭──────────────────────────────────────────── Round: 2 ────────────────────────────────────────────╮\n",
       "│ <span style=\"font-weight: bold\">{</span>                                                                                                │\n",
       "│     <span style=\"color: #008000; text-decoration-color: #008000\">'global'</span>: <span style=\"font-weight: bold\">{</span>                                                                                  │\n",
       "│         <span style=\"color: #008000; text-decoration-color: #008000\">'accuracy'</span>: <span style=\"color: #008080; text-decoration-color: #008080; font-weight: bold\">0.9395</span>,                                                                      │\n",
       "│         <span style=\"color: #008000; text-decoration-color: #008000\">'macro_precision'</span>: <span style=\"color: #008080; text-decoration-color: #008080; font-weight: bold\">0.9402</span>,                                                               │\n",
       "│         <span style=\"color: #008000; text-decoration-color: #008000\">'macro_recall'</span>: <span style=\"color: #008080; text-decoration-color: #008080; font-weight: bold\">0.93883</span>,                                                                 │\n",
       "│         <span style=\"color: #008000; text-decoration-color: #008000\">'macro_f1'</span>: <span style=\"color: #008080; text-decoration-color: #008080; font-weight: bold\">0.93883</span>,                                                                     │\n",
       "│         <span style=\"color: #008000; text-decoration-color: #008000\">'micro_precision'</span>: <span style=\"color: #008080; text-decoration-color: #008080; font-weight: bold\">0.9395</span>,                                                               │\n",
       "│         <span style=\"color: #008000; text-decoration-color: #008000\">'micro_recall'</span>: <span style=\"color: #008080; text-decoration-color: #008080; font-weight: bold\">0.9395</span>,                                                                  │\n",
       "│         <span style=\"color: #008000; text-decoration-color: #008000\">'micro_f1'</span>: <span style=\"color: #008080; text-decoration-color: #008080; font-weight: bold\">0.9395</span>,                                                                      │\n",
       "│         <span style=\"color: #008000; text-decoration-color: #008000\">'round'</span>: <span style=\"color: #008080; text-decoration-color: #008080; font-weight: bold\">2</span>                                                                               │\n",
       "│     <span style=\"font-weight: bold\">}</span>,                                                                                           │\n",
       "│     <span style=\"color: #008000; text-decoration-color: #008000\">'comm_cost'</span>: <span style=\"color: #008080; text-decoration-color: #008080; font-weight: bold\">3562200</span>                                                                         │\n",
       "│ <span style=\"font-weight: bold\">}</span>                                                                                                │\n",
       "╰──────────────────────────────────────────────────────────────────────────────────────────────────╯\n",
       "</pre>\n"
      ],
      "text/plain": [
       "╭──────────────────────────────────────────── Round: 2 ────────────────────────────────────────────╮\n",
       "│ \u001b[1m{\u001b[0m                                                                                                │\n",
       "│     \u001b[32m'global'\u001b[0m: \u001b[1m{\u001b[0m                                                                                  │\n",
       "│         \u001b[32m'accuracy'\u001b[0m: \u001b[1;36m0.9395\u001b[0m,                                                                      │\n",
       "│         \u001b[32m'macro_precision'\u001b[0m: \u001b[1;36m0.9402\u001b[0m,                                                               │\n",
       "│         \u001b[32m'macro_recall'\u001b[0m: \u001b[1;36m0.93883\u001b[0m,                                                                 │\n",
       "│         \u001b[32m'macro_f1'\u001b[0m: \u001b[1;36m0.93883\u001b[0m,                                                                     │\n",
       "│         \u001b[32m'micro_precision'\u001b[0m: \u001b[1;36m0.9395\u001b[0m,                                                               │\n",
       "│         \u001b[32m'micro_recall'\u001b[0m: \u001b[1;36m0.9395\u001b[0m,                                                                  │\n",
       "│         \u001b[32m'micro_f1'\u001b[0m: \u001b[1;36m0.9395\u001b[0m,                                                                      │\n",
       "│         \u001b[32m'round'\u001b[0m: \u001b[1;36m2\u001b[0m                                                                               │\n",
       "│     \u001b[1m}\u001b[0m,                                                                                           │\n",
       "│     \u001b[32m'comm_cost'\u001b[0m: \u001b[1;36m3562200\u001b[0m                                                                         │\n",
       "│ \u001b[1m}\u001b[0m                                                                                                │\n",
       "╰──────────────────────────────────────────────────────────────────────────────────────────────────╯\n"
      ]
     },
     "metadata": {},
     "output_type": "display_data"
    },
    {
     "data": {
      "text/html": [
       "<pre style=\"white-space:pre;overflow-x:auto;line-height:normal;font-family:Menlo,'DejaVu Sans Mono',consolas,'Courier New',monospace\">  Memory usage: <span style=\"color: #008080; text-decoration-color: #008080; font-weight: bold\">382.9</span> MB <span style=\"font-weight: bold\">[</span><span style=\"color: #008080; text-decoration-color: #008080; font-weight: bold\">3.50</span> %<span style=\"font-weight: bold\">]</span>\n",
       "</pre>\n"
      ],
      "text/plain": [
       "  Memory usage: \u001b[1;36m382.9\u001b[0m MB \u001b[1m[\u001b[0m\u001b[1;36m3.50\u001b[0m %\u001b[1m]\u001b[0m\n"
      ]
     },
     "metadata": {},
     "output_type": "display_data"
    },
    {
     "data": {
      "text/html": [
       "<pre style=\"white-space:pre;overflow-x:auto;line-height:normal;font-family:Menlo,'DejaVu Sans Mono',consolas,'Courier New',monospace\">╭──────────────────────────────────────────── Round: 3 ────────────────────────────────────────────╮\n",
       "│ <span style=\"font-weight: bold\">{</span>                                                                                                │\n",
       "│     <span style=\"color: #008000; text-decoration-color: #008000\">'global'</span>: <span style=\"font-weight: bold\">{</span>                                                                                  │\n",
       "│         <span style=\"color: #008000; text-decoration-color: #008000\">'accuracy'</span>: <span style=\"color: #008080; text-decoration-color: #008080; font-weight: bold\">0.9435</span>,                                                                      │\n",
       "│         <span style=\"color: #008000; text-decoration-color: #008000\">'macro_precision'</span>: <span style=\"color: #008080; text-decoration-color: #008080; font-weight: bold\">0.9454</span>,                                                               │\n",
       "│         <span style=\"color: #008000; text-decoration-color: #008000\">'macro_recall'</span>: <span style=\"color: #008080; text-decoration-color: #008080; font-weight: bold\">0.94257</span>,                                                                 │\n",
       "│         <span style=\"color: #008000; text-decoration-color: #008000\">'macro_f1'</span>: <span style=\"color: #008080; text-decoration-color: #008080; font-weight: bold\">0.94295</span>,                                                                     │\n",
       "│         <span style=\"color: #008000; text-decoration-color: #008000\">'micro_precision'</span>: <span style=\"color: #008080; text-decoration-color: #008080; font-weight: bold\">0.9435</span>,                                                               │\n",
       "│         <span style=\"color: #008000; text-decoration-color: #008000\">'micro_recall'</span>: <span style=\"color: #008080; text-decoration-color: #008080; font-weight: bold\">0.9435</span>,                                                                  │\n",
       "│         <span style=\"color: #008000; text-decoration-color: #008000\">'micro_f1'</span>: <span style=\"color: #008080; text-decoration-color: #008080; font-weight: bold\">0.9435</span>,                                                                      │\n",
       "│         <span style=\"color: #008000; text-decoration-color: #008000\">'round'</span>: <span style=\"color: #008080; text-decoration-color: #008080; font-weight: bold\">3</span>                                                                               │\n",
       "│     <span style=\"font-weight: bold\">}</span>,                                                                                           │\n",
       "│     <span style=\"color: #008000; text-decoration-color: #008000\">'comm_cost'</span>: <span style=\"color: #008080; text-decoration-color: #008080; font-weight: bold\">3562200</span>                                                                         │\n",
       "│ <span style=\"font-weight: bold\">}</span>                                                                                                │\n",
       "╰──────────────────────────────────────────────────────────────────────────────────────────────────╯\n",
       "</pre>\n"
      ],
      "text/plain": [
       "╭──────────────────────────────────────────── Round: 3 ────────────────────────────────────────────╮\n",
       "│ \u001b[1m{\u001b[0m                                                                                                │\n",
       "│     \u001b[32m'global'\u001b[0m: \u001b[1m{\u001b[0m                                                                                  │\n",
       "│         \u001b[32m'accuracy'\u001b[0m: \u001b[1;36m0.9435\u001b[0m,                                                                      │\n",
       "│         \u001b[32m'macro_precision'\u001b[0m: \u001b[1;36m0.9454\u001b[0m,                                                               │\n",
       "│         \u001b[32m'macro_recall'\u001b[0m: \u001b[1;36m0.94257\u001b[0m,                                                                 │\n",
       "│         \u001b[32m'macro_f1'\u001b[0m: \u001b[1;36m0.94295\u001b[0m,                                                                     │\n",
       "│         \u001b[32m'micro_precision'\u001b[0m: \u001b[1;36m0.9435\u001b[0m,                                                               │\n",
       "│         \u001b[32m'micro_recall'\u001b[0m: \u001b[1;36m0.9435\u001b[0m,                                                                  │\n",
       "│         \u001b[32m'micro_f1'\u001b[0m: \u001b[1;36m0.9435\u001b[0m,                                                                      │\n",
       "│         \u001b[32m'round'\u001b[0m: \u001b[1;36m3\u001b[0m                                                                               │\n",
       "│     \u001b[1m}\u001b[0m,                                                                                           │\n",
       "│     \u001b[32m'comm_cost'\u001b[0m: \u001b[1;36m3562200\u001b[0m                                                                         │\n",
       "│ \u001b[1m}\u001b[0m                                                                                                │\n",
       "╰──────────────────────────────────────────────────────────────────────────────────────────────────╯\n"
      ]
     },
     "metadata": {},
     "output_type": "display_data"
    },
    {
     "data": {
      "text/html": [
       "<pre style=\"white-space:pre;overflow-x:auto;line-height:normal;font-family:Menlo,'DejaVu Sans Mono',consolas,'Courier New',monospace\">  Memory usage: <span style=\"color: #008080; text-decoration-color: #008080; font-weight: bold\">357.4</span> MB <span style=\"font-weight: bold\">[</span><span style=\"color: #008080; text-decoration-color: #008080; font-weight: bold\">3.53</span> %<span style=\"font-weight: bold\">]</span>\n",
       "</pre>\n"
      ],
      "text/plain": [
       "  Memory usage: \u001b[1;36m357.4\u001b[0m MB \u001b[1m[\u001b[0m\u001b[1;36m3.53\u001b[0m %\u001b[1m]\u001b[0m\n"
      ]
     },
     "metadata": {},
     "output_type": "display_data"
    },
    {
     "data": {
      "text/html": [
       "<pre style=\"white-space:pre;overflow-x:auto;line-height:normal;font-family:Menlo,'DejaVu Sans Mono',consolas,'Courier New',monospace\"></pre>\n"
      ],
      "text/plain": []
     },
     "metadata": {},
     "output_type": "display_data"
    },
    {
     "data": {
      "application/vnd.jupyter.widget-view+json": {
       "model_id": "1fe1500a2c05442284692db912b8f170",
       "version_major": 2,
       "version_minor": 0
      },
      "text/plain": [
       "Output()"
      ]
     },
     "metadata": {},
     "output_type": "display_data"
    },
    {
     "data": {
      "text/html": [
       "<pre style=\"white-space:pre;overflow-x:auto;line-height:normal;font-family:Menlo,'DejaVu Sans Mono',consolas,'Courier New',monospace\"></pre>\n"
      ],
      "text/plain": []
     },
     "metadata": {},
     "output_type": "display_data"
    },
    {
     "data": {
      "text/html": [
       "<pre style=\"white-space:pre;overflow-x:auto;line-height:normal;font-family:Menlo,'DejaVu Sans Mono',consolas,'Courier New',monospace\">╭────────────────────────────────────── Overall Performance ───────────────────────────────────────╮\n",
       "│ <span style=\"font-weight: bold\">{</span>                                                                                                │\n",
       "│     <span style=\"color: #008000; text-decoration-color: #008000\">'global'</span>: <span style=\"font-weight: bold\">{</span>                                                                                  │\n",
       "│         <span style=\"color: #008000; text-decoration-color: #008000\">'accuracy'</span>: <span style=\"color: #008080; text-decoration-color: #008080; font-weight: bold\">0.9435</span>,                                                                      │\n",
       "│         <span style=\"color: #008000; text-decoration-color: #008000\">'macro_precision'</span>: <span style=\"color: #008080; text-decoration-color: #008080; font-weight: bold\">0.9454</span>,                                                               │\n",
       "│         <span style=\"color: #008000; text-decoration-color: #008000\">'macro_recall'</span>: <span style=\"color: #008080; text-decoration-color: #008080; font-weight: bold\">0.94257</span>,                                                                 │\n",
       "│         <span style=\"color: #008000; text-decoration-color: #008000\">'macro_f1'</span>: <span style=\"color: #008080; text-decoration-color: #008080; font-weight: bold\">0.94295</span>,                                                                     │\n",
       "│         <span style=\"color: #008000; text-decoration-color: #008000\">'micro_precision'</span>: <span style=\"color: #008080; text-decoration-color: #008080; font-weight: bold\">0.9435</span>,                                                               │\n",
       "│         <span style=\"color: #008000; text-decoration-color: #008000\">'micro_recall'</span>: <span style=\"color: #008080; text-decoration-color: #008080; font-weight: bold\">0.9435</span>,                                                                  │\n",
       "│         <span style=\"color: #008000; text-decoration-color: #008000\">'micro_f1'</span>: <span style=\"color: #008080; text-decoration-color: #008080; font-weight: bold\">0.9435</span>,                                                                      │\n",
       "│         <span style=\"color: #008000; text-decoration-color: #008000\">'round'</span>: <span style=\"color: #008080; text-decoration-color: #008080; font-weight: bold\">3</span>                                                                               │\n",
       "│     <span style=\"font-weight: bold\">}</span>,                                                                                           │\n",
       "│     <span style=\"color: #008000; text-decoration-color: #008000\">'comm_costs'</span>: <span style=\"color: #008080; text-decoration-color: #008080; font-weight: bold\">12467700</span>                                                                       │\n",
       "│ <span style=\"font-weight: bold\">}</span>                                                                                                │\n",
       "╰──────────────────────────────────────────────────────────────────────────────────────────────────╯\n",
       "</pre>\n"
      ],
      "text/plain": [
       "╭────────────────────────────────────── Overall Performance ───────────────────────────────────────╮\n",
       "│ \u001b[1m{\u001b[0m                                                                                                │\n",
       "│     \u001b[32m'global'\u001b[0m: \u001b[1m{\u001b[0m                                                                                  │\n",
       "│         \u001b[32m'accuracy'\u001b[0m: \u001b[1;36m0.9435\u001b[0m,                                                                      │\n",
       "│         \u001b[32m'macro_precision'\u001b[0m: \u001b[1;36m0.9454\u001b[0m,                                                               │\n",
       "│         \u001b[32m'macro_recall'\u001b[0m: \u001b[1;36m0.94257\u001b[0m,                                                                 │\n",
       "│         \u001b[32m'macro_f1'\u001b[0m: \u001b[1;36m0.94295\u001b[0m,                                                                     │\n",
       "│         \u001b[32m'micro_precision'\u001b[0m: \u001b[1;36m0.9435\u001b[0m,                                                               │\n",
       "│         \u001b[32m'micro_recall'\u001b[0m: \u001b[1;36m0.9435\u001b[0m,                                                                  │\n",
       "│         \u001b[32m'micro_f1'\u001b[0m: \u001b[1;36m0.9435\u001b[0m,                                                                      │\n",
       "│         \u001b[32m'round'\u001b[0m: \u001b[1;36m3\u001b[0m                                                                               │\n",
       "│     \u001b[1m}\u001b[0m,                                                                                           │\n",
       "│     \u001b[32m'comm_costs'\u001b[0m: \u001b[1;36m12467700\u001b[0m                                                                       │\n",
       "│ \u001b[1m}\u001b[0m                                                                                                │\n",
       "╰──────────────────────────────────────────────────────────────────────────────────────────────────╯\n"
      ]
     },
     "metadata": {},
     "output_type": "display_data"
    }
   ],
   "source": [
    "algorithm = MyFLAlgorithm(n_clients=10, # 10 clients in the federation\n",
    "                          data_splitter=splitter,\n",
    "                          hyper_params=hyperparams)\n",
    "\n",
    "logger = Log()\n",
    "algorithm.set_callbacks(logger)\n",
    "logger.init()\n",
    "algorithm.run(n_rounds=3, eligible_perc=1)"
   ]
  },
  {
   "cell_type": "markdown",
   "metadata": {},
   "source": [
    "We only just need to run it!"
   ]
  },
  {
   "cell_type": "markdown",
   "metadata": {},
   "source": [
    "# Multi-KRUM"
   ]
  },
  {
   "cell_type": "code",
   "execution_count": 16,
   "metadata": {},
   "outputs": [],
   "source": [
    "class MyServer(Server):\n",
    "    def __init__(\n",
    "        self,\n",
    "        model: torch.nn.Module,\n",
    "        test_set: FastDataLoader | None,\n",
    "        clients: Sequence[Client],\n",
    "        weighted: bool = False,\n",
    "        lr: float = 1.0,\n",
    "        f: int = 0,\n",
    "        m: int = 1,\n",
    "        **kwargs,\n",
    "    ):\n",
    "        super().__init__(model, test_set, clients, weighted, lr, **kwargs)\n",
    "        self.hyper_params.update(f=f, m=m)\n",
    "\n",
    "\n",
    "    def aggregate(self, eligible: Sequence[Client], client_models: Iterable[Module]) -> None:\n",
    "            \n",
    "            client_models = list(client_models)\n",
    "            n = len(client_models)\n",
    "            f = self.hyper_params.f\n",
    "            \n",
    "            server_param_items = list(self.model.named_parameters())\n",
    "            param_keys = [k for k, _ in server_param_items]\n",
    "\n",
    "            # get one vector for each client\n",
    "            client_vecs = []\n",
    "            for i, cm in enumerate(client_models):\n",
    "                cm_state = dict(cm.named_parameters()) \n",
    "                parts = [torch.ravel(cm_state[k].data) for k in param_keys]\n",
    "                vec = torch.cat(parts, dim=0) \n",
    "                client_vecs.append(vec)\n",
    "\n",
    "            # put all these vector in a tensor\n",
    "            mat = torch.stack(client_vecs, dim=0)\n",
    "            \n",
    "            # calculate pairwise euclidean distance matrix to extract the scores\n",
    "            dists = torch.cdist(mat, mat, p=2.0)  # shape (n, n)\n",
    "            sq_dists = dists.pow(2)\n",
    "\n",
    "            scores = torch.empty(n)\n",
    "            # For each model i, sort distances to others (exclude self-distance=0)\n",
    "            # and sum the smallest (n - f - 2) distances\n",
    "            nb_small = n - f - 2\n",
    "            for i in range(n):\n",
    "                # distances to others (includes zero at i)\n",
    "                row = sq_dists[i]\n",
    "                # Get sorted distances (ascending)\n",
    "                sorted_row, _ = torch.sort(row)\n",
    "                selected = sorted_row[1: nb_small + 1]\n",
    "                scores[i] = selected.sum()\n",
    "\n",
    "            _, selected_indices = torch.topk(scores, k=self.hyper_params.m, largest=False)\n",
    "\n",
    "            selected_indices = selected_indices.tolist()  # indices of chosen clients\n",
    "\n",
    "            # If m == 1: KRUM\n",
    "            if self.hyper_params.m == 1:\n",
    "                chosen_idx = selected_indices[0]\n",
    "                chosen_state = dict(client_models[chosen_idx].named_parameters())\n",
    "                # Copy parameter tensors into server model\n",
    "                for k in param_keys:\n",
    "                    self.model.state_dict()[k].copy_(chosen_state[k].data)\n",
    "            else:\n",
    "                # Multi-KRUM: average the selected m models elementwise (simple mean)\n",
    "                # We'll build averaged parameters by stacking the selected params and mean them\n",
    "                # Using named_parameters order to assemble results\n",
    "                # Initialize accumulator dict of tensors (float) on server device\n",
    "                accum = {}\n",
    "                for k in param_keys:\n",
    "                    first_t = client_models[selected_indices[0]].state_dict()[k].data\n",
    "                    accum[k] = first_t.clone().detach().float()  # use float accumulation\n",
    "\n",
    "                for idx in selected_indices[1:]:\n",
    "                    cm_state = client_models[idx].state_dict()\n",
    "                    for k in param_keys:\n",
    "                        accum[k].add_(cm_state[k].data)\n",
    "\n",
    "                # divide by m and copy back\n",
    "                for k in param_keys:\n",
    "                    mean_t = (accum[k] / float(self.hyper_params.m)).to(self.model.state_dict()[k].dtype)\n",
    "                    self.model.state_dict()[k].copy_(mean_t)\n",
    "\n",
    "            return deepcopy(self.model)"
   ]
  },
  {
   "cell_type": "code",
   "execution_count": 8,
   "metadata": {},
   "outputs": [],
   "source": [
    "from fluke.algorithms import CentralizedFL\n",
    "\n",
    "class MyFLAlgorithm(CentralizedFL):\n",
    "\n",
    "    def get_client_class(self) -> type[Client]:\n",
    "        return MyClient\n",
    "\n",
    "    def get_server_class(self) -> type[Server]:\n",
    "        return MyServer"
   ]
  },
  {
   "cell_type": "code",
   "execution_count": 9,
   "metadata": {},
   "outputs": [],
   "source": [
    "from fluke.data import DataSplitter\n",
    "from fluke.data.datasets import Datasets\n",
    "from fluke import DDict\n",
    "from fluke.utils.log import Log\n",
    "from fluke.evaluation import ClassificationEval\n",
    "from fluke import FlukeENV\n",
    "\n",
    "env = FlukeENV()\n",
    "env.set_seed(42) # we set a seed for reproducibility\n",
    "env.set_device(\"cpu\") # we use the CPU for this example\n",
    "\n",
    "dataset = Datasets.get(\"mnist\", path=\"./data\")\n",
    "\n",
    "# we set the evaluator to be used by both the server and the clients\n",
    "env.set_evaluator(ClassificationEval(eval_every=1, n_classes=dataset.num_classes))\n",
    "\n",
    "splitter = DataSplitter(dataset=dataset,\n",
    "                        distribution=\"iid\")\n",
    "\n",
    "client_hp = DDict(\n",
    "    batch_size=10,\n",
    "    local_epochs=5,\n",
    "    loss=\"CrossEntropyLoss\",\n",
    "    optimizer=DDict(\n",
    "      lr=0.01,\n",
    "      momentum=0.9,\n",
    "      weight_decay=0.0001),\n",
    "    scheduler=DDict(\n",
    "      gamma=1,\n",
    "      step_size=1)\n",
    ")\n",
    "\n",
    "# we put together the hyperparameters for the algorithm\n",
    "hyperparams = DDict(client=client_hp,\n",
    "                    server=DDict(weighted=True, f=5, m=2),\n",
    "                    model=\"MNIST_2NN\")"
   ]
  },
  {
   "cell_type": "code",
   "execution_count": 10,
   "metadata": {},
   "outputs": [
    {
     "data": {
      "text/html": [
       "<pre style=\"white-space:pre;overflow-x:auto;line-height:normal;font-family:Menlo,'DejaVu Sans Mono',consolas,'Courier New',monospace\">╭──────────────────────────────────────────── Round: 1 ────────────────────────────────────────────╮\n",
       "│ <span style=\"font-weight: bold\">{</span>                                                                                                │\n",
       "│     <span style=\"color: #008000; text-decoration-color: #008000\">'global'</span>: <span style=\"font-weight: bold\">{</span>                                                                                  │\n",
       "│         <span style=\"color: #008000; text-decoration-color: #008000\">'accuracy'</span>: <span style=\"color: #008080; text-decoration-color: #008080; font-weight: bold\">0.9081</span>,                                                                      │\n",
       "│         <span style=\"color: #008000; text-decoration-color: #008000\">'macro_precision'</span>: <span style=\"color: #008080; text-decoration-color: #008080; font-weight: bold\">0.90874</span>,                                                              │\n",
       "│         <span style=\"color: #008000; text-decoration-color: #008000\">'macro_recall'</span>: <span style=\"color: #008080; text-decoration-color: #008080; font-weight: bold\">0.90739</span>,                                                                 │\n",
       "│         <span style=\"color: #008000; text-decoration-color: #008000\">'macro_f1'</span>: <span style=\"color: #008080; text-decoration-color: #008080; font-weight: bold\">0.90673</span>,                                                                     │\n",
       "│         <span style=\"color: #008000; text-decoration-color: #008000\">'micro_precision'</span>: <span style=\"color: #008080; text-decoration-color: #008080; font-weight: bold\">0.9081</span>,                                                               │\n",
       "│         <span style=\"color: #008000; text-decoration-color: #008000\">'micro_recall'</span>: <span style=\"color: #008080; text-decoration-color: #008080; font-weight: bold\">0.9081</span>,                                                                  │\n",
       "│         <span style=\"color: #008000; text-decoration-color: #008000\">'micro_f1'</span>: <span style=\"color: #008080; text-decoration-color: #008080; font-weight: bold\">0.9081</span>,                                                                      │\n",
       "│         <span style=\"color: #008000; text-decoration-color: #008000\">'round'</span>: <span style=\"color: #008080; text-decoration-color: #008080; font-weight: bold\">1</span>                                                                               │\n",
       "│     <span style=\"font-weight: bold\">}</span>,                                                                                           │\n",
       "│     <span style=\"color: #008000; text-decoration-color: #008000\">'comm_cost'</span>: <span style=\"color: #008080; text-decoration-color: #008080; font-weight: bold\">3562200</span>                                                                         │\n",
       "│ <span style=\"font-weight: bold\">}</span>                                                                                                │\n",
       "╰──────────────────────────────────────────────────────────────────────────────────────────────────╯\n",
       "</pre>\n"
      ],
      "text/plain": [
       "╭──────────────────────────────────────────── Round: 1 ────────────────────────────────────────────╮\n",
       "│ \u001b[1m{\u001b[0m                                                                                                │\n",
       "│     \u001b[32m'global'\u001b[0m: \u001b[1m{\u001b[0m                                                                                  │\n",
       "│         \u001b[32m'accuracy'\u001b[0m: \u001b[1;36m0.9081\u001b[0m,                                                                      │\n",
       "│         \u001b[32m'macro_precision'\u001b[0m: \u001b[1;36m0.90874\u001b[0m,                                                              │\n",
       "│         \u001b[32m'macro_recall'\u001b[0m: \u001b[1;36m0.90739\u001b[0m,                                                                 │\n",
       "│         \u001b[32m'macro_f1'\u001b[0m: \u001b[1;36m0.90673\u001b[0m,                                                                     │\n",
       "│         \u001b[32m'micro_precision'\u001b[0m: \u001b[1;36m0.9081\u001b[0m,                                                               │\n",
       "│         \u001b[32m'micro_recall'\u001b[0m: \u001b[1;36m0.9081\u001b[0m,                                                                  │\n",
       "│         \u001b[32m'micro_f1'\u001b[0m: \u001b[1;36m0.9081\u001b[0m,                                                                      │\n",
       "│         \u001b[32m'round'\u001b[0m: \u001b[1;36m1\u001b[0m                                                                               │\n",
       "│     \u001b[1m}\u001b[0m,                                                                                           │\n",
       "│     \u001b[32m'comm_cost'\u001b[0m: \u001b[1;36m3562200\u001b[0m                                                                         │\n",
       "│ \u001b[1m}\u001b[0m                                                                                                │\n",
       "╰──────────────────────────────────────────────────────────────────────────────────────────────────╯\n"
      ]
     },
     "metadata": {},
     "output_type": "display_data"
    },
    {
     "data": {
      "text/html": [
       "<pre style=\"white-space:pre;overflow-x:auto;line-height:normal;font-family:Menlo,'DejaVu Sans Mono',consolas,'Courier New',monospace\">  Memory usage: <span style=\"color: #008080; text-decoration-color: #008080; font-weight: bold\">487.9</span> MB <span style=\"font-weight: bold\">[</span><span style=\"color: #008080; text-decoration-color: #008080; font-weight: bold\">6.91</span> %<span style=\"font-weight: bold\">]</span>\n",
       "</pre>\n"
      ],
      "text/plain": [
       "  Memory usage: \u001b[1;36m487.9\u001b[0m MB \u001b[1m[\u001b[0m\u001b[1;36m6.91\u001b[0m %\u001b[1m]\u001b[0m\n"
      ]
     },
     "metadata": {},
     "output_type": "display_data"
    },
    {
     "data": {
      "text/html": [
       "<pre style=\"white-space:pre;overflow-x:auto;line-height:normal;font-family:Menlo,'DejaVu Sans Mono',consolas,'Courier New',monospace\">╭──────────────────────────────────────────── Round: 2 ────────────────────────────────────────────╮\n",
       "│ <span style=\"font-weight: bold\">{</span>                                                                                                │\n",
       "│     <span style=\"color: #008000; text-decoration-color: #008000\">'global'</span>: <span style=\"font-weight: bold\">{</span>                                                                                  │\n",
       "│         <span style=\"color: #008000; text-decoration-color: #008000\">'accuracy'</span>: <span style=\"color: #008080; text-decoration-color: #008080; font-weight: bold\">0.9422</span>,                                                                      │\n",
       "│         <span style=\"color: #008000; text-decoration-color: #008000\">'macro_precision'</span>: <span style=\"color: #008080; text-decoration-color: #008080; font-weight: bold\">0.94195</span>,                                                              │\n",
       "│         <span style=\"color: #008000; text-decoration-color: #008000\">'macro_recall'</span>: <span style=\"color: #008080; text-decoration-color: #008080; font-weight: bold\">0.94156</span>,                                                                 │\n",
       "│         <span style=\"color: #008000; text-decoration-color: #008000\">'macro_f1'</span>: <span style=\"color: #008080; text-decoration-color: #008080; font-weight: bold\">0.94148</span>,                                                                     │\n",
       "│         <span style=\"color: #008000; text-decoration-color: #008000\">'micro_precision'</span>: <span style=\"color: #008080; text-decoration-color: #008080; font-weight: bold\">0.9422</span>,                                                               │\n",
       "│         <span style=\"color: #008000; text-decoration-color: #008000\">'micro_recall'</span>: <span style=\"color: #008080; text-decoration-color: #008080; font-weight: bold\">0.9422</span>,                                                                  │\n",
       "│         <span style=\"color: #008000; text-decoration-color: #008000\">'micro_f1'</span>: <span style=\"color: #008080; text-decoration-color: #008080; font-weight: bold\">0.9422</span>,                                                                      │\n",
       "│         <span style=\"color: #008000; text-decoration-color: #008000\">'round'</span>: <span style=\"color: #008080; text-decoration-color: #008080; font-weight: bold\">2</span>                                                                               │\n",
       "│     <span style=\"font-weight: bold\">}</span>,                                                                                           │\n",
       "│     <span style=\"color: #008000; text-decoration-color: #008000\">'comm_cost'</span>: <span style=\"color: #008080; text-decoration-color: #008080; font-weight: bold\">3562200</span>                                                                         │\n",
       "│ <span style=\"font-weight: bold\">}</span>                                                                                                │\n",
       "╰──────────────────────────────────────────────────────────────────────────────────────────────────╯\n",
       "</pre>\n"
      ],
      "text/plain": [
       "╭──────────────────────────────────────────── Round: 2 ────────────────────────────────────────────╮\n",
       "│ \u001b[1m{\u001b[0m                                                                                                │\n",
       "│     \u001b[32m'global'\u001b[0m: \u001b[1m{\u001b[0m                                                                                  │\n",
       "│         \u001b[32m'accuracy'\u001b[0m: \u001b[1;36m0.9422\u001b[0m,                                                                      │\n",
       "│         \u001b[32m'macro_precision'\u001b[0m: \u001b[1;36m0.94195\u001b[0m,                                                              │\n",
       "│         \u001b[32m'macro_recall'\u001b[0m: \u001b[1;36m0.94156\u001b[0m,                                                                 │\n",
       "│         \u001b[32m'macro_f1'\u001b[0m: \u001b[1;36m0.94148\u001b[0m,                                                                     │\n",
       "│         \u001b[32m'micro_precision'\u001b[0m: \u001b[1;36m0.9422\u001b[0m,                                                               │\n",
       "│         \u001b[32m'micro_recall'\u001b[0m: \u001b[1;36m0.9422\u001b[0m,                                                                  │\n",
       "│         \u001b[32m'micro_f1'\u001b[0m: \u001b[1;36m0.9422\u001b[0m,                                                                      │\n",
       "│         \u001b[32m'round'\u001b[0m: \u001b[1;36m2\u001b[0m                                                                               │\n",
       "│     \u001b[1m}\u001b[0m,                                                                                           │\n",
       "│     \u001b[32m'comm_cost'\u001b[0m: \u001b[1;36m3562200\u001b[0m                                                                         │\n",
       "│ \u001b[1m}\u001b[0m                                                                                                │\n",
       "╰──────────────────────────────────────────────────────────────────────────────────────────────────╯\n"
      ]
     },
     "metadata": {},
     "output_type": "display_data"
    },
    {
     "data": {
      "text/html": [
       "<pre style=\"white-space:pre;overflow-x:auto;line-height:normal;font-family:Menlo,'DejaVu Sans Mono',consolas,'Courier New',monospace\">  Memory usage: <span style=\"color: #008080; text-decoration-color: #008080; font-weight: bold\">339.4</span> MB <span style=\"font-weight: bold\">[</span><span style=\"color: #008080; text-decoration-color: #008080; font-weight: bold\">3.36</span> %<span style=\"font-weight: bold\">]</span>\n",
       "</pre>\n"
      ],
      "text/plain": [
       "  Memory usage: \u001b[1;36m339.4\u001b[0m MB \u001b[1m[\u001b[0m\u001b[1;36m3.36\u001b[0m %\u001b[1m]\u001b[0m\n"
      ]
     },
     "metadata": {},
     "output_type": "display_data"
    },
    {
     "data": {
      "text/html": [
       "<pre style=\"white-space:pre;overflow-x:auto;line-height:normal;font-family:Menlo,'DejaVu Sans Mono',consolas,'Courier New',monospace\">╭──────────────────────────────────────────── Round: 3 ────────────────────────────────────────────╮\n",
       "│ <span style=\"font-weight: bold\">{</span>                                                                                                │\n",
       "│     <span style=\"color: #008000; text-decoration-color: #008000\">'global'</span>: <span style=\"font-weight: bold\">{</span>                                                                                  │\n",
       "│         <span style=\"color: #008000; text-decoration-color: #008000\">'accuracy'</span>: <span style=\"color: #008080; text-decoration-color: #008080; font-weight: bold\">0.9505</span>,                                                                      │\n",
       "│         <span style=\"color: #008000; text-decoration-color: #008000\">'macro_precision'</span>: <span style=\"color: #008080; text-decoration-color: #008080; font-weight: bold\">0.95035</span>,                                                              │\n",
       "│         <span style=\"color: #008000; text-decoration-color: #008000\">'macro_recall'</span>: <span style=\"color: #008080; text-decoration-color: #008080; font-weight: bold\">0.95015</span>,                                                                 │\n",
       "│         <span style=\"color: #008000; text-decoration-color: #008000\">'macro_f1'</span>: <span style=\"color: #008080; text-decoration-color: #008080; font-weight: bold\">0.9499</span>,                                                                      │\n",
       "│         <span style=\"color: #008000; text-decoration-color: #008000\">'micro_precision'</span>: <span style=\"color: #008080; text-decoration-color: #008080; font-weight: bold\">0.9505</span>,                                                               │\n",
       "│         <span style=\"color: #008000; text-decoration-color: #008000\">'micro_recall'</span>: <span style=\"color: #008080; text-decoration-color: #008080; font-weight: bold\">0.9505</span>,                                                                  │\n",
       "│         <span style=\"color: #008000; text-decoration-color: #008000\">'micro_f1'</span>: <span style=\"color: #008080; text-decoration-color: #008080; font-weight: bold\">0.9505</span>,                                                                      │\n",
       "│         <span style=\"color: #008000; text-decoration-color: #008000\">'round'</span>: <span style=\"color: #008080; text-decoration-color: #008080; font-weight: bold\">3</span>                                                                               │\n",
       "│     <span style=\"font-weight: bold\">}</span>,                                                                                           │\n",
       "│     <span style=\"color: #008000; text-decoration-color: #008000\">'comm_cost'</span>: <span style=\"color: #008080; text-decoration-color: #008080; font-weight: bold\">3562200</span>                                                                         │\n",
       "│ <span style=\"font-weight: bold\">}</span>                                                                                                │\n",
       "╰──────────────────────────────────────────────────────────────────────────────────────────────────╯\n",
       "</pre>\n"
      ],
      "text/plain": [
       "╭──────────────────────────────────────────── Round: 3 ────────────────────────────────────────────╮\n",
       "│ \u001b[1m{\u001b[0m                                                                                                │\n",
       "│     \u001b[32m'global'\u001b[0m: \u001b[1m{\u001b[0m                                                                                  │\n",
       "│         \u001b[32m'accuracy'\u001b[0m: \u001b[1;36m0.9505\u001b[0m,                                                                      │\n",
       "│         \u001b[32m'macro_precision'\u001b[0m: \u001b[1;36m0.95035\u001b[0m,                                                              │\n",
       "│         \u001b[32m'macro_recall'\u001b[0m: \u001b[1;36m0.95015\u001b[0m,                                                                 │\n",
       "│         \u001b[32m'macro_f1'\u001b[0m: \u001b[1;36m0.9499\u001b[0m,                                                                      │\n",
       "│         \u001b[32m'micro_precision'\u001b[0m: \u001b[1;36m0.9505\u001b[0m,                                                               │\n",
       "│         \u001b[32m'micro_recall'\u001b[0m: \u001b[1;36m0.9505\u001b[0m,                                                                  │\n",
       "│         \u001b[32m'micro_f1'\u001b[0m: \u001b[1;36m0.9505\u001b[0m,                                                                      │\n",
       "│         \u001b[32m'round'\u001b[0m: \u001b[1;36m3\u001b[0m                                                                               │\n",
       "│     \u001b[1m}\u001b[0m,                                                                                           │\n",
       "│     \u001b[32m'comm_cost'\u001b[0m: \u001b[1;36m3562200\u001b[0m                                                                         │\n",
       "│ \u001b[1m}\u001b[0m                                                                                                │\n",
       "╰──────────────────────────────────────────────────────────────────────────────────────────────────╯\n"
      ]
     },
     "metadata": {},
     "output_type": "display_data"
    },
    {
     "data": {
      "text/html": [
       "<pre style=\"white-space:pre;overflow-x:auto;line-height:normal;font-family:Menlo,'DejaVu Sans Mono',consolas,'Courier New',monospace\">  Memory usage: <span style=\"color: #008080; text-decoration-color: #008080; font-weight: bold\">271.2</span> MB <span style=\"font-weight: bold\">[</span><span style=\"color: #008080; text-decoration-color: #008080; font-weight: bold\">3.70</span> %<span style=\"font-weight: bold\">]</span>\n",
       "</pre>\n"
      ],
      "text/plain": [
       "  Memory usage: \u001b[1;36m271.2\u001b[0m MB \u001b[1m[\u001b[0m\u001b[1;36m3.70\u001b[0m %\u001b[1m]\u001b[0m\n"
      ]
     },
     "metadata": {},
     "output_type": "display_data"
    },
    {
     "data": {
      "text/html": [
       "<pre style=\"white-space:pre;overflow-x:auto;line-height:normal;font-family:Menlo,'DejaVu Sans Mono',consolas,'Courier New',monospace\"></pre>\n"
      ],
      "text/plain": []
     },
     "metadata": {},
     "output_type": "display_data"
    },
    {
     "data": {
      "application/vnd.jupyter.widget-view+json": {
       "model_id": "3be0b8c306354b688f3ca8c2dc67c353",
       "version_major": 2,
       "version_minor": 0
      },
      "text/plain": [
       "Output()"
      ]
     },
     "metadata": {},
     "output_type": "display_data"
    },
    {
     "data": {
      "text/html": [
       "<pre style=\"white-space:pre;overflow-x:auto;line-height:normal;font-family:Menlo,'DejaVu Sans Mono',consolas,'Courier New',monospace\"></pre>\n"
      ],
      "text/plain": []
     },
     "metadata": {},
     "output_type": "display_data"
    },
    {
     "data": {
      "text/html": [
       "<pre style=\"white-space:pre;overflow-x:auto;line-height:normal;font-family:Menlo,'DejaVu Sans Mono',consolas,'Courier New',monospace\">╭────────────────────────────────────── Overall Performance ───────────────────────────────────────╮\n",
       "│ <span style=\"font-weight: bold\">{</span>                                                                                                │\n",
       "│     <span style=\"color: #008000; text-decoration-color: #008000\">'global'</span>: <span style=\"font-weight: bold\">{</span>                                                                                  │\n",
       "│         <span style=\"color: #008000; text-decoration-color: #008000\">'accuracy'</span>: <span style=\"color: #008080; text-decoration-color: #008080; font-weight: bold\">0.9505</span>,                                                                      │\n",
       "│         <span style=\"color: #008000; text-decoration-color: #008000\">'macro_precision'</span>: <span style=\"color: #008080; text-decoration-color: #008080; font-weight: bold\">0.95035</span>,                                                              │\n",
       "│         <span style=\"color: #008000; text-decoration-color: #008000\">'macro_recall'</span>: <span style=\"color: #008080; text-decoration-color: #008080; font-weight: bold\">0.95015</span>,                                                                 │\n",
       "│         <span style=\"color: #008000; text-decoration-color: #008000\">'macro_f1'</span>: <span style=\"color: #008080; text-decoration-color: #008080; font-weight: bold\">0.9499</span>,                                                                      │\n",
       "│         <span style=\"color: #008000; text-decoration-color: #008000\">'micro_precision'</span>: <span style=\"color: #008080; text-decoration-color: #008080; font-weight: bold\">0.9505</span>,                                                               │\n",
       "│         <span style=\"color: #008000; text-decoration-color: #008000\">'micro_recall'</span>: <span style=\"color: #008080; text-decoration-color: #008080; font-weight: bold\">0.9505</span>,                                                                  │\n",
       "│         <span style=\"color: #008000; text-decoration-color: #008000\">'micro_f1'</span>: <span style=\"color: #008080; text-decoration-color: #008080; font-weight: bold\">0.9505</span>,                                                                      │\n",
       "│         <span style=\"color: #008000; text-decoration-color: #008000\">'round'</span>: <span style=\"color: #008080; text-decoration-color: #008080; font-weight: bold\">3</span>                                                                               │\n",
       "│     <span style=\"font-weight: bold\">}</span>,                                                                                           │\n",
       "│     <span style=\"color: #008000; text-decoration-color: #008000\">'comm_costs'</span>: <span style=\"color: #008080; text-decoration-color: #008080; font-weight: bold\">12467700</span>                                                                       │\n",
       "│ <span style=\"font-weight: bold\">}</span>                                                                                                │\n",
       "╰──────────────────────────────────────────────────────────────────────────────────────────────────╯\n",
       "</pre>\n"
      ],
      "text/plain": [
       "╭────────────────────────────────────── Overall Performance ───────────────────────────────────────╮\n",
       "│ \u001b[1m{\u001b[0m                                                                                                │\n",
       "│     \u001b[32m'global'\u001b[0m: \u001b[1m{\u001b[0m                                                                                  │\n",
       "│         \u001b[32m'accuracy'\u001b[0m: \u001b[1;36m0.9505\u001b[0m,                                                                      │\n",
       "│         \u001b[32m'macro_precision'\u001b[0m: \u001b[1;36m0.95035\u001b[0m,                                                              │\n",
       "│         \u001b[32m'macro_recall'\u001b[0m: \u001b[1;36m0.95015\u001b[0m,                                                                 │\n",
       "│         \u001b[32m'macro_f1'\u001b[0m: \u001b[1;36m0.9499\u001b[0m,                                                                      │\n",
       "│         \u001b[32m'micro_precision'\u001b[0m: \u001b[1;36m0.9505\u001b[0m,                                                               │\n",
       "│         \u001b[32m'micro_recall'\u001b[0m: \u001b[1;36m0.9505\u001b[0m,                                                                  │\n",
       "│         \u001b[32m'micro_f1'\u001b[0m: \u001b[1;36m0.9505\u001b[0m,                                                                      │\n",
       "│         \u001b[32m'round'\u001b[0m: \u001b[1;36m3\u001b[0m                                                                               │\n",
       "│     \u001b[1m}\u001b[0m,                                                                                           │\n",
       "│     \u001b[32m'comm_costs'\u001b[0m: \u001b[1;36m12467700\u001b[0m                                                                       │\n",
       "│ \u001b[1m}\u001b[0m                                                                                                │\n",
       "╰──────────────────────────────────────────────────────────────────────────────────────────────────╯\n"
      ]
     },
     "metadata": {},
     "output_type": "display_data"
    }
   ],
   "source": [
    "algorithm = MyFLAlgorithm(n_clients=10, # 10 clients in the federation\n",
    "                          data_splitter=splitter,\n",
    "                          hyper_params=hyperparams)\n",
    "\n",
    "logger = Log()\n",
    "algorithm.set_callbacks(logger)\n",
    "logger.init()\n",
    "algorithm.run(n_rounds=3, eligible_perc=1)"
   ]
  },
  {
   "cell_type": "code",
   "execution_count": null,
   "metadata": {},
   "outputs": [],
   "source": []
  }
 ],
 "metadata": {
  "kernelspec": {
   "display_name": "ecai_venv",
   "language": "python",
   "name": "python3"
  },
  "language_info": {
   "codemirror_mode": {
    "name": "ipython",
    "version": 3
   },
   "file_extension": ".py",
   "mimetype": "text/x-python",
   "name": "python",
   "nbconvert_exporter": "python",
   "pygments_lexer": "ipython3",
   "version": "3.10.9"
  }
 },
 "nbformat": 4,
 "nbformat_minor": 2
}
